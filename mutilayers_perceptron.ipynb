{
 "cells": [
  {
   "cell_type": "code",
   "execution_count": 1,
   "id": "6c4749a1-c951-4d6d-859c-6974bb9bfd16",
   "metadata": {},
   "outputs": [],
   "source": [
    "import numpy as np\n",
    "import matplotlib.pyplot as plt\n",
    "import pandas as pd"
   ]
  },
  {
   "cell_type": "code",
   "execution_count": 167,
   "metadata": {},
   "outputs": [
    {
     "name": "stdout",
     "output_type": "stream",
     "text": [
      "(30, 568)\n",
      "(1, 568)\n"
     ]
    }
   ],
   "source": [
    "# Get the dataset\n",
    "df = pd.read_csv('data.csv').values\n",
    "# Remove patient ID column\n",
    "df = np.delete(df, 0, 1)\n",
    "\n",
    "X = df[:, 1:].T.astype(float)\n",
    "print(X.shape)\n",
    "Y = df[:, 0].T.reshape(1, len(df))\n",
    "print(Y.shape)\n",
    "# Binary representation of diagnosis 0 for benign 1 for malignant\n",
    "Y = np.where(Y == 'M', 1, 0)\n",
    "\n",
    "# Data normalization (minmax)\n",
    "vmin = np.min(X, axis=1, keepdims=True)\n",
    "vmax = np.max(X, axis=1, keepdims=True)\n",
    "X = (X - vmin) / (vmax - vmin)"
   ]
  },
  {
   "cell_type": "code",
   "execution_count": 129,
   "metadata": {},
   "outputs": [],
   "source": [
    "# Constants defining the model\n",
    "n_x = X.shape[0]\n",
    "n_h = 7\n",
    "n_y = 1\n",
    "learning_rate = .0075\n",
    "n_iterations = 3000"
   ]
  },
  {
   "cell_type": "code",
   "execution_count": 169,
   "metadata": {},
   "outputs": [],
   "source": [
    "def initialiaze_parameters(n_x, n_h, n_y):\n",
    "    \"\"\"\n",
    "    Argument:\n",
    "    n_x -- size of the input layer\n",
    "    n_h -- size of the hidden layer\n",
    "    n_y -- size of the output layer\n",
    "\n",
    "    Returns:\n",
    "    params -- python dictionary containing the parameters:\n",
    "                    W1 -- weight matrix of shape (n_h, n_x)\n",
    "                    b1 -- bias vector of shape (n_h, 1)\n",
    "                    W2 -- weight matrix of shape (n_y, n_h)\n",
    "                    b2 -- bias vector of shape (n_y, 1)\n",
    "    \"\"\"\n",
    "    W1 = np.random.randn(n_h, n_x) * 0.01\n",
    "    b1= np.random.randn(n_h, 1) * 0.01\n",
    "    W2 = np.random.randn(n_y, n_h) * 0.01\n",
    "    b2 = np.random.randn(n_y, 1) * 0.01\n",
    "\n",
    "    return {\n",
    "        \"W1\": W1,\n",
    "        \"b1\": b1,\n",
    "        \"W2\": W2,\n",
    "        \"b2\": b2\n",
    "    }\n",
    "\n",
    "def initialize_parameters_deep(layer_dims):\n",
    "    \"\"\"\n",
    "    Arguments:\n",
    "    layer_dims -- python array (list) containing the dimensions of each layer in our network\n",
    "\n",
    "    Returns -- python dic containing W1, b1...\n",
    "    Wl -- weight matrix\n",
    "    bl -- bias vector\n",
    "    \"\"\"\n",
    "\n",
    "    parameters = {}\n",
    "    \n",
    "    for l in range(1, len(layer_dims)):\n",
    "        parameters['W' + str(l)] = np.random.randn(layer_dims[l], layer_dims[l-1]) / np.sqrt(layer_dims[l-1])\n",
    "        parameters['b' + str(l)] = np.zeros((layer_dims[l], 1))\n",
    "\n",
    "    return parameters;"
   ]
  },
  {
   "cell_type": "code",
   "execution_count": 171,
   "metadata": {},
   "outputs": [],
   "source": [
    "def sigmoid(z):\n",
    "    \"\"\"\n",
    "    compute de sigmoid of z\n",
    "\n",
    "    Arguments:\n",
    "    z -- A scalar of np array of any size\n",
    "\n",
    "    Return:\n",
    "    sigmoid(z)\n",
    "    \"\"\"\n",
    "    A = 1 / (1 + np.exp(-z))\n",
    "    cache = z\n",
    "\n",
    "    return A, cache\n",
    "# assert(np.allclose(sigmoid(np.array([0, 2])), np.array([0, 2]), np.array([0.5, 0.88079708]), atol=1e-7))\n",
    "\n",
    "def relu(z):\n",
    "    \"\"\"\n",
    "    compute de relu of z\n",
    "\n",
    "    Arguments:\n",
    "    z -- A scalar of np array of any size\n",
    "\n",
    "    Return:\n",
    "    relu(z)\n",
    "    \"\"\"\n",
    "    A = np.maximum(0, z)\n",
    "    cache = z\n",
    "\n",
    "    return A, cache\n",
    "\n",
    "assert(relu(np.array([2, 10, 20])) == np.array([2, 10, 20])).all()"
   ]
  },
  {
   "cell_type": "code",
   "execution_count": 134,
   "metadata": {},
   "outputs": [],
   "source": [
    "def linear_forward(A, W, b):\n",
    "    \"\"\"\n",
    "    Linear forward propagation\n",
    "\n",
    "    Arguments:\n",
    "    A -- activation from previous layer \n",
    "    W -- weight matrix, np.array().shape((size of current layer, size of previous layer))\n",
    "    b -- bias vector, np.array().shape((size of current layer, 1))\n",
    "    \"\"\"\n",
    "    Z = W.dot(A) + b\n",
    "    cache = (A, W, b)\n",
    "\n",
    "    return Z, cache\n",
    "\n",
    "def linear_activation_forward(A_prev, W, b, activation):\n",
    "    if (activation == 'sigmoid'):\n",
    "        Z, linear_cache = linear_forward(A_prev, W, b)\n",
    "        A, activation_cache = sigmoid(Z)\n",
    "\n",
    "    elif (activation == 'relu'):\n",
    "        Z, linear_cache = linear_forward(A_prev, W, b)\n",
    "        A, activation_cache = relu(Z)\n",
    "\n",
    "    cache = (linear_cache, activation_cache)\n",
    "\n",
    "    return A, cache\n",
    "\n",
    "def multilayers_model_forward(X, parameters): \n",
    "    caches = []\n",
    "    A = X\n",
    "    layers = len(parameters) // 2\n",
    "\n",
    "    for layer in range(1, layers):\n",
    "        A_prev = A\n",
    "        A, cache = linear_activation_forward(A_prev, parameters['W' + str(layer)], parameters['b' + str(layer)], 'relu')\n",
    "        caches.append(cache)\n",
    "    \n",
    "    AL, cache = linear_activation_forward(A, parameters['W' + str(layer)], parameters['b' + str(layer)], 'sigmoid')\n",
    "    caches.append(cache)\n",
    "\n",
    "    return AL, cache"
   ]
  },
  {
   "cell_type": "code",
   "execution_count": 137,
   "metadata": {},
   "outputs": [],
   "source": [
    "def compute_cost(AL, Y):\n",
    "    m = Y.shape[1]\n",
    "\n",
    "    cost = -1 / m * np.sum(Y * np.log(AL) + (1 - Y) * np.log(1 - AL))\n",
    "\n",
    "    return np.squeeze(cost);"
   ]
  },
  {
   "cell_type": "code",
   "execution_count": 172,
   "metadata": {},
   "outputs": [],
   "source": [
    "def linear_backward(dZ, cache):\n",
    "    A_prev, W, b = cache\n",
    "    m = A_prev.shape[1]\n",
    "\n",
    "    dW = (1 / m) * dZ.dot(A_prev.T)\n",
    "    db = (1 / m) * np.sum(dZ, axis=1, keepdims=True)\n",
    "\n",
    "# def multilayer_model_backward(dZ, cache):\n",
    "#     grads = {}"
   ]
  },
  {
   "cell_type": "code",
   "execution_count": 173,
   "metadata": {},
   "outputs": [],
   "source": [
    "def multilayer_model(X, Y, layers_dims, learning_rate = .0075, num_iterations = 3000, print_cost=False):\n",
    "    \"\"\"\n",
    "    Multilayer neural networks\n",
    "\n",
    "    Arguments:\n",
    "    X -- input data, of shape (n_x, number of examples)\n",
    "    Y -- label vector containing (1 if Malignant cancer, 0 either), of shape (1, number of examples)\n",
    "    \"\"\"\n",
    "\n",
    "    costs = []\n",
    "    parameters = initialize_parameters_deep(layers_dims)\n",
    "    \n",
    "    # navigate through each layers\n",
    "    for i in range(1, 3): # 3️⃣ hardcoded\n",
    "        AL, caches = multilayers_model_forward(X, parameters)\n",
    "        \n",
    "        cost = compute_cost(AL, Y)\n",
    "\n",
    "        print(cost)\n",
    "        "
   ]
  },
  {
   "cell_type": "code",
   "execution_count": 168,
   "metadata": {},
   "outputs": [
    {
     "name": "stdout",
     "output_type": "stream",
     "text": [
      "6\n",
      "21.05630129093197\n",
      "6\n",
      "21.05630129093197\n"
     ]
    }
   ],
   "source": [
    "layers_dims = [30, 30, 30, 1]\n",
    "multilayer_model(X, Y, layers_dims)"
   ]
  },
  {
   "cell_type": "code",
   "execution_count": null,
   "metadata": {},
   "outputs": [],
   "source": []
  },
  {
   "cell_type": "code",
   "execution_count": null,
   "metadata": {},
   "outputs": [],
   "source": []
  }
 ],
 "metadata": {
  "kernelspec": {
   "display_name": "Python 3 (ipykernel)",
   "language": "python",
   "name": "python3"
  },
  "language_info": {
   "codemirror_mode": {
    "name": "ipython",
    "version": 3
   },
   "file_extension": ".py",
   "mimetype": "text/x-python",
   "name": "python",
   "nbconvert_exporter": "python",
   "pygments_lexer": "ipython3",
   "version": "3.11.5"
  }
 },
 "nbformat": 4,
 "nbformat_minor": 5
}
